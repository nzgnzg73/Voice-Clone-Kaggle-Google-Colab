{
  "nbformat": 4,
  "nbformat_minor": 0,
  "metadata": {
    "colab": {
      "provenance": [],
      "gpuType": "T4",
      "include_colab_link": true
    },
    "kernelspec": {
      "name": "python3",
      "display_name": "Python 3"
    },
    "language_info": {
      "name": "python"
    },
    "accelerator": "GPU"
  },
  "cells": [
    {
      "cell_type": "markdown",
      "metadata": {
        "id": "view-in-github",
        "colab_type": "text"
      },
      "source": [
        "<a href=\"https://colab.research.google.com/github/nzgnzg73/Voice-Clone-Kaggle-Google-Colab/blob/main/ChatterboxToolkitUI(Google%20Colab).ipynb\" target=\"_parent\"><img src=\"https://colab.research.google.com/assets/colab-badge.svg\" alt=\"Open In Colab\"/></a>"
      ]
    },
    {
      "cell_type": "markdown",
      "source": [
        "Tech NZG\n",
        "\n",
        "Suscribe Button ✅ click 😊😊\n",
        "[\n",
        "https://youtube.com/@hubnzg?si=mbIuCBwmgAwoCrYJ](https://)"
      ],
      "metadata": {
        "id": "WKJDpnWzX-Gh"
      }
    },
    {
      "cell_type": "code",
      "source": [
        "%cd /content/ChatterboxToolkitUI/\n",
        "!python ChatterboxToolkitUI.py"
      ],
      "metadata": {
        "id": "NeApPz44dgPP"
      },
      "execution_count": null,
      "outputs": []
    },
    {
      "cell_type": "code",
      "execution_count": null,
      "metadata": {
        "id": "bO7B4GlvbY6n"
      },
      "outputs": [],
      "source": [
        "!git clone https://github.com/dasjoms/ChatterboxToolkitUI.git\n",
        "!pip install chatterbox-tts\n",
        "!pip install gradio pydub scipy\n",
        "!pip install webrtcvad\n",
        "!apt install ffmpeg\n",
        "%cd /content/ChatterboxToolkitUI/\n",
        "file_path = \"ChatterboxToolkitUI.py\"\n",
        "\n",
        "with open(file_path, \"r\", encoding=\"utf-8\") as f:\n",
        "    code = f.read()\n",
        "\n",
        "# Replace the line\n",
        "updated_code = code.replace(\n",
        "    \"demo.queue().launch()\",\n",
        "    \"demo.queue().launch(share=True)\"\n",
        ")\n",
        "\n",
        "with open(file_path, \"w\", encoding=\"utf-8\") as f:\n",
        "    f.write(updated_code)\n",
        "\n",
        "print(\"✅ Updated 'demo.queue().launch()' to include share=True\")"
      ]
    }
  ]
}