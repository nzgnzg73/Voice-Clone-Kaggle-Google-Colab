{
  "nbformat": 4,
  "nbformat_minor": 0,
  "metadata": {
    "colab": {
      "provenance": [],
      "gpuType": "T4",
      "include_colab_link": true
    },
    "kernelspec": {
      "name": "python3",
      "display_name": "Python 3"
    },
    "language_info": {
      "name": "python"
    },
    "accelerator": "GPU"
  },
  "cells": [
    {
      "cell_type": "markdown",
      "metadata": {
        "id": "view-in-github",
        "colab_type": "text"
      },
      "source": [
        "<a href=\"https://colab.research.google.com/github/nzgnzg73/Voice-Clone-Kaggle-Google-Colab/blob/main/ChatterboxToolkitUI_(Google_Coloab).ipynb\" target=\"_parent\"><img src=\"https://colab.research.google.com/assets/colab-badge.svg\" alt=\"Open In Colab\"/></a>"
      ]
    },
    {
      "cell_type": "markdown",
      "source": [
        "**Tech NZG**\n",
        "\n",
        "**Suscribe Button ✅ click 😊😊**"
      ],
      "metadata": {
        "id": "eNME_YkIQwKm"
      }
    },
    {
      "cell_type": "markdown",
      "source": [
        "**https://youtube.com/@hubnzg?si=mbIuCBwmgAwoCrYJ**"
      ],
      "metadata": {
        "id": "Y_FMnfx_Q5LG"
      }
    },
    {
      "cell_type": "markdown",
      "source": [
        "**Setp (1)**"
      ],
      "metadata": {
        "id": "aPMwdQbEQTn2"
      }
    },
    {
      "cell_type": "code",
      "source": [
        "# @title Default title text\n",
        "# ------------------------------------------------------------------\n",
        "# 1️⃣  System packages (ffmpeg) – needed by pydub / many TTS back-ends\n",
        "# ------------------------------------------------------------------\n",
        "!apt-get -qq update && apt-get -qq install -y ffmpeg\n",
        "\n",
        "# ------------------------------------------------------------------\n",
        "# 2️⃣  Python packages\n",
        "# ------------------------------------------------------------------\n",
        "!pip -q install --upgrade pip\n",
        "!pip -q install torch torchvision==0.0+cu118\n",
        "!pip -q uninstall -y torchvision\n",
        "!pip -q install chatterbox-tts gradio pydub scipy webrtcvad pyngrok\n",
        "\n",
        "# ------------------------------------------------------------------\n",
        "# 2️⃣  Clone ChatterboxToolkitUI\n",
        "# ------------------------------------------------------------------\n",
        "!git clone https://github.com/dasjoms/ChatterboxToolkitUI.git\n",
        "%cd ChatterboxToolkitUI\n",
        "\n",
        "# ------------------------------------------------------------------\n",
        "# 3️⃣  Patch launch call\n",
        "# ------------------------------------------------------------------\n",
        "import pathlib, re\n",
        "\n",
        "ui_path = pathlib.Path(\"ChatterboxToolkitUI.py\")\n",
        "code = ui_path.read_text(encoding=\"utf-8\")\n",
        "\n",
        "patched = re.sub(r\"demo\\.queue\\(\\)\\.launch\\(\\)\",\n",
        "                \"demo.queue().launch(share=False)\",\n",
        "                code, count=1)\n",
        "\n",
        "# 🔧 آڈیو آؤٹ پٹ میں type=\"filepath\" ایڈ کریں\n",
        "patched = patched.replace('gr.Audio(', 'gr.Audio(type=\"filepath\", ')\n",
        "\n",
        "ui_path.write_text(patched, encoding=\"utf-8\")\n",
        "print(\"✅ Patched launch() → share=False + audio download enabled\")\n",
        "\n",
        "# ------------------------------------------------------------------\n",
        "# 4️⃣  Run the UI\n",
        "# ------------------------------------------------------------------\n",
        "import subprocess, os, signal, sys, pathlib\n",
        "\n",
        "log_file = pathlib.Path(\"ui.log\")\n",
        "\n",
        "ui_proc = subprocess.Popen(\n",
        "    [\"python\", \"ChatterboxToolkitUI.py\"],\n",
        "    stdout=log_file.open(\"w\", buffering=1),\n",
        "    stderr=subprocess.STDOUT,\n",
        "    preexec_fn=os.setsid\n",
        ")\n",
        "\n",
        "print(f\"🚀 UI started (PID={ui_proc.pid}). Logs → {log_file}\")\n",
        "print(\"🖥️  You can watch them live with:  !tail -f ui.log\")\n",
        "\n"
      ],
      "metadata": {
        "id": "TMimo4EHP8J1",
        "cellView": "form"
      },
      "execution_count": null,
      "outputs": []
    },
    {
      "cell_type": "markdown",
      "source": [
        "**Setp (2)**"
      ],
      "metadata": {
        "id": "l03o5bsKQMmG"
      }
    },
    {
      "cell_type": "markdown",
      "source": [
        "Google Colab Notebook - AI Tool To use this notebook, please follow these steps:\n",
        "\n",
        "Click on the provided link below to open the Google Colab file.\n",
        "In the code cell, add your personal ngrok authentication token.\n",
        "If you don't have a token, you can get one for free from the official ngrok website: Ngrok Website: https://dashboard.ngrok.com/get-started/your-authtoken"
      ],
      "metadata": {
        "id": "QmbTMQiZQddu"
      }
    },
    {
      "cell_type": "code",
      "source": [
        "# @title Default title text\n",
        "# --------------------------------------------------------------\n",
        "#  ngrok ٹوکن – اپنی ٹوکن یہاں رکھیں\n",
        "# --------------------------------------------------------------\n",
        "NGROK_TOKEN = \"31lm4MJfVdJcgD1q7VVnpDcAo47_5f41XeCDHXeZRHFoRWi7r\"\n",
        "\n",
        "if NGROK_TOKEN:\n",
        "    from pyngrok import conf\n",
        "    conf.get_default().auth_token = NGROK_TOKEN\n",
        "    print(\"✅ ngrok کا ٹوکن سیٹ ہوا\")\n",
        "else:\n",
        "    raise ValueError(\"ngrok ٹوکن مہیا نہیں کیا گیا\")\n"
      ],
      "metadata": {
        "cellView": "form",
        "id": "1D7qPMnsQA22"
      },
      "execution_count": null,
      "outputs": []
    },
    {
      "cell_type": "markdown",
      "source": [
        "**Setp (3)**"
      ],
      "metadata": {
        "id": "UMts0eljQYU1"
      }
    },
    {
      "cell_type": "code",
      "source": [
        "# @title Default title text\n",
        "# --------------------------------------------------------------\n",
        "# ✅  Dependencies\n",
        "# --------------------------------------------------------------\n",
        "!apt-get -qq update && apt-get -qq install -y ffmpeg > /dev/null\n",
        "!pip -q install chatterbox-tts gradio pydub scipy webrtcvad pyngrok > /dev/null\n",
        "\n",
        "# --------------------------------------------------------------\n",
        "# ✅  Clone the repo (fresh copy, no old patches)\n",
        "# --------------------------------------------------------------\n",
        "!rm -rf ChatterboxToolkitUI\n",
        "!git clone https://github.com/dasjoms/ChatterboxToolkitUI.git\n",
        "%cd ChatterboxToolkitUI\n",
        "\n",
        "# --------------------------------------------------------------\n",
        "# ✅  Patch launch + fix audio download (only for Output audio)\n",
        "# --------------------------------------------------------------\n",
        "import pathlib, re\n",
        "\n",
        "ui_path = pathlib.Path(\"ChatterboxToolkitUI.py\")\n",
        "code = ui_path.read_text(encoding=\"utf-8\")\n",
        "\n",
        "# patch launch → disable share=True\n",
        "new_code = re.sub(\n",
        "    r\"demo\\.queue\\(\\)\\.launch\\(\\)\",\n",
        "    \"demo.queue().launch(share=False)\",\n",
        "    code,\n",
        "    count=1\n",
        ")\n",
        "\n",
        "# ✅ Patch only OUTPUT audio widgets (label contains 'Output')\n",
        "def patch_output_audio(match):\n",
        "    widget = match.group(0)\n",
        "    # replace existing type=... with filepath\n",
        "    if \"type=\" in widget:\n",
        "        widget = re.sub(r'type\\s*=\\s*\"[a-zA-Z0-9_]+\"', 'type=\"filepath\"', widget)\n",
        "    else:\n",
        "        widget = widget.replace(\"gr.Audio(\", 'gr.Audio(type=\"filepath\", ')\n",
        "    return widget\n",
        "\n",
        "new_code = re.sub(\n",
        "    r'gr\\.Audio\\([^)]*label\\s*=\\s*\"[^\"]*Output[^\"]*\"[^)]*\\)',\n",
        "    patch_output_audio,\n",
        "    new_code\n",
        ")\n",
        "\n",
        "ui_path.write_text(new_code, encoding=\"utf-8\")\n",
        "print(\"✅ demo.queue().launch patched + audio download enabled for OUTPUT only\")\n",
        "\n",
        "# --------------------------------------------------------------\n",
        "# ✅ Run the UI in background\n",
        "# --------------------------------------------------------------\n",
        "import subprocess, os, signal, time\n",
        "\n",
        "ui_process = subprocess.Popen(\n",
        "    [\"python\", \"ChatterboxToolkitUI.py\"],\n",
        "    stdout=open(\"ui.log\", \"w\"),\n",
        "    stderr=subprocess.STDOUT,\n",
        "    preexec_fn=os.setsid\n",
        ")\n",
        "\n",
        "print(\"🚀 UI started (PID = %d) – logs are in ui.log\" % ui_process.pid)\n",
        "\n",
        "time.sleep(20)\n",
        "\n",
        "# quick check\n",
        "import requests\n",
        "try:\n",
        "    r = requests.get(\"http://127.0.0.1:7860\")\n",
        "    print(\"✅ UI running, status:\", r.status_code)\n",
        "except Exception as e:\n",
        "    print(\"⚠️ UI not yet reachable:\", e)\n",
        "\n",
        "# --------------------------------------------------------------\n",
        "# ✅ ngrok tunnel\n",
        "# --------------------------------------------------------------\n",
        "from pyngrok import ngrok, exception as ngrok_exc\n",
        "\n",
        "NGROK_TOKEN = \"31AgTx1Om0HtkOBFz9cPqVLQF63_7ZgDC7ZhEChNWfkiMcgEt\"\n",
        "if NGROK_TOKEN:\n",
        "    from pyngrok import conf\n",
        "    conf.get_default().auth_token = NGROK_TOKEN\n",
        "    print(\"✅ ngrok token set\")\n",
        "else:\n",
        "    raise ValueError(\"ngrok token missing\")\n",
        "\n",
        "ngrok.kill()\n",
        "\n",
        "def start_ngrok(port: int = 7860):\n",
        "    try:\n",
        "        tunnel = ngrok.connect(addr=str(port), bind_tls=True)\n",
        "        print(\"\\n🔗 ngrok public URL :\", tunnel.public_url)\n",
        "        return tunnel.public_url\n",
        "    except ngrok_exc.PyngrokError as e:\n",
        "        raise RuntimeError(f\"ngrok failed : {e}\")\n",
        "\n",
        "public_url = start_ngrok(port=7860)\n",
        "\n",
        "print(\"\\n🖥️  Local URL (inside Colab) : http://127.0.0.1:7860\")\n",
        "print(\"\\n🔁 اگر ٹنل بند ہو جائے تو اس سیل دوبارہ چلائیں۔\")\n"
      ],
      "metadata": {
        "cellView": "form",
        "id": "B5NJkvr2QtVm"
      },
      "execution_count": null,
      "outputs": []
    },
    {
      "cell_type": "markdown",
      "source": [
        "**Before closing Google Colab, you must run this final command to shut down the ngrok session. If you do not close it, your token could become unsecured and is at risk of being hacked. Please take special care of this.**\n",
        "\n",
        "**👇🏼👇🏼👇🏼👇🏼👇🏼👇🏼👇🏼👇🏼👇🏼👇🏼😱**"
      ],
      "metadata": {
        "id": "TIslYbszRAIt"
      }
    },
    {
      "cell_type": "code",
      "source": [
        "from pyngrok import ngrok\n",
        "\n",
        "# This command will completely shut down all ngrok processes\n",
        "\n",
        "ngrok.kill()"
      ],
      "metadata": {
        "id": "Sjtan6tYRHWV"
      },
      "execution_count": null,
      "outputs": []
    }
  ]
}