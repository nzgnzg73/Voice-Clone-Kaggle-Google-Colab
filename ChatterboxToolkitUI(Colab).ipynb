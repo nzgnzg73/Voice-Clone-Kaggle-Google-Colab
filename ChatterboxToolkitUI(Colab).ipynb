{
  "nbformat": 4,
  "nbformat_minor": 0,
  "metadata": {
    "colab": {
      "provenance": [],
      "gpuType": "T4",
      "include_colab_link": true
    },
    "kernelspec": {
      "name": "python3",
      "display_name": "Python 3"
    },
    "language_info": {
      "name": "python"
    },
    "accelerator": "GPU"
  },
  "cells": [
    {
      "cell_type": "markdown",
      "metadata": {
        "id": "view-in-github",
        "colab_type": "text"
      },
      "source": [
        "<a href=\"https://colab.research.google.com/github/nzgnzg73/Voice-Clone-Kaggle-Google-Colab/blob/main/ChatterboxToolkitUI(Colab).ipynb\" target=\"_parent\"><img src=\"https://colab.research.google.com/assets/colab-badge.svg\" alt=\"Open In Colab\"/></a>"
      ]
    },
    {
      "cell_type": "markdown",
      "source": [
        "**Tech NZG**\n",
        "\n",
        "**Suscribe Button ✅ click 😊😊**\n"
      ],
      "metadata": {
        "id": "xeympfkzqQWV"
      }
    },
    {
      "cell_type": "markdown",
      "source": [
        "**https://youtube.com/@hubnzg?si=mbIuCBwmgAwoCrYJ**"
      ],
      "metadata": {
        "id": "Yhqp84vdqP8V"
      }
    },
    {
      "cell_type": "markdown",
      "source": [
        "# Setp 1"
      ],
      "metadata": {
        "id": "grjwVDiiqPdl"
      }
    },
    {
      "cell_type": "code",
      "source": [
        "# @title Default title text\n",
        "# --------------------------------------------------------------\n",
        "# 1️⃣  Clone Repo\n",
        "# --------------------------------------------------------------\n",
        "!git clone https://github.com/dasjoms/ChatterboxToolkitUI.git\n",
        "%cd /content/ChatterboxToolkitUI\n",
        "\n",
        "# --------------------------------------------------------------\n",
        "# 2️⃣  Install Dependencies\n",
        "# --------------------------------------------------------------\n",
        "!pip install chatterbox-tts\n",
        "!pip install gradio pydub scipy\n",
        "!pip install webrtcvad\n",
        "!apt-get -y install ffmpeg\n",
        "\n",
        "# --------------------------------------------------------------\n",
        "# 3️⃣  Modify Code (Replace demo.launch line)\n",
        "# --------------------------------------------------------------\n",
        "file_path = \"ChatterboxToolkitUI.py\"\n",
        "\n",
        "with open(file_path, \"r\", encoding=\"utf-8\") as f:\n",
        "    code = f.read()\n",
        "\n",
        "updated_code = code.replace(\n",
        "    \"demo.queue().launch()\",\n",
        "    \"demo.queue().launch(share=True)\"   # 👈 Colab میں share=True رکھیں تاکہ public link ملے\n",
        ")\n",
        "\n",
        "with open(file_path, \"w\", encoding=\"utf-8\") as f:\n",
        "    f.write(updated_code)\n",
        "\n",
        "print(\"✅ Updated 'demo.queue().launch()' with share=True for Colab\")\n"
      ],
      "metadata": {
        "id": "401Rfn47qS39"
      },
      "execution_count": null,
      "outputs": []
    },
    {
      "cell_type": "markdown",
      "source": [
        "# Setp 2"
      ],
      "metadata": {
        "id": "NP-9j6ZGqUPt"
      }
    },
    {
      "cell_type": "code",
      "source": [
        "# @title Default title text\n",
        "!pip uninstall -y torch torchvision torchaudio"
      ],
      "metadata": {
        "id": "_Gw3JWJsqZ2t"
      },
      "execution_count": null,
      "outputs": []
    },
    {
      "cell_type": "markdown",
      "source": [
        "# Setp 3"
      ],
      "metadata": {
        "id": "AFGzwB3JqbeN"
      }
    },
    {
      "cell_type": "code",
      "source": [
        "# @title Default title text\n",
        "!pip install torch==2.5.1+cu121 torchvision==0.20.1+cu121 torchaudio==2.5.1+cu121 --index-url https://download.pytorch.org/whl/cu121"
      ],
      "metadata": {
        "id": "yslQxA9iqeUV"
      },
      "execution_count": null,
      "outputs": []
    },
    {
      "cell_type": "markdown",
      "source": [
        "# Setp 4"
      ],
      "metadata": {
        "id": "GTE1Su1Xqe0V"
      }
    },
    {
      "cell_type": "code",
      "source": [
        "!python ChatterboxToolkitUI.py --share"
      ],
      "metadata": {
        "id": "47cakKFDqhAl"
      },
      "execution_count": null,
      "outputs": []
    }
  ]
}